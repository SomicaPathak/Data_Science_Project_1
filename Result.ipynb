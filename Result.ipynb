{
 "cells": [
  {
   "cell_type": "markdown",
   "id": "ee3950af",
   "metadata": {},
   "source": [
    "# Results are"
   ]
  },
  {
   "cell_type": "markdown",
   "id": "7b9b5ee3",
   "metadata": {},
   "source": [
    "## With sorting of data\n",
    "#### mean absolute error: 4.621333622532765\n",
    "#### mean squared error: 26.48744628887337\n",
    "#### Root mean Squared error 5.146595601839469\n",
    "\n",
    "## without sorting\n",
    "#### mean absolute error: 4.183859899002975\n",
    "#### mean squared error: 21.598769307217406\n",
    "#### Root mean Squared error 4.647447612100367"
   ]
  },
  {
   "cell_type": "code",
   "execution_count": null,
   "id": "f6f8ddb9",
   "metadata": {},
   "outputs": [],
   "source": []
  }
 ],
 "metadata": {
  "kernelspec": {
   "display_name": "Python 3 (ipykernel)",
   "language": "python",
   "name": "python3"
  },
  "language_info": {
   "codemirror_mode": {
    "name": "ipython",
    "version": 3
   },
   "file_extension": ".py",
   "mimetype": "text/x-python",
   "name": "python",
   "nbconvert_exporter": "python",
   "pygments_lexer": "ipython3",
   "version": "3.10.2"
  }
 },
 "nbformat": 4,
 "nbformat_minor": 5
}
